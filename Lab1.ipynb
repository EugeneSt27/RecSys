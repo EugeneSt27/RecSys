{
 "cells": [
  {
   "cell_type": "markdown",
   "id": "0214df4f-9112-4949-956d-ce77c1501c78",
   "metadata": {},
   "source": [
    "# 0. Импорт библиотек, задание функций"
   ]
  },
  {
   "cell_type": "code",
   "execution_count": 1,
   "id": "cde08459-6b22-4564-a194-2cc66ed96743",
   "metadata": {},
   "outputs": [],
   "source": [
    "import pandas as pd\n",
    "import numpy as np\n",
    "from math import sqrt\n",
    "from sklearn.model_selection import train_test_split"
   ]
  },
  {
   "cell_type": "code",
   "execution_count": 21,
   "id": "23841ccf-3df0-4af1-ad91-67a801fb9659",
   "metadata": {},
   "outputs": [],
   "source": [
    "# функция косинусной близости\n",
    "def cosine_similarity(vec1, vec2): \n",
    "    dot_product = np.dot(vec1, vec2)\n",
    "    norm_vec1 = np.linalg.norm(vec1)\n",
    "    norm_vec2 = np.linalg.norm(vec2)\n",
    "    if norm_vec1 == 0 or norm_vec2 == 0:\n",
    "        return 0\n",
    "    return dot_product / (norm_vec1 * norm_vec2)"
   ]
  },
  {
   "cell_type": "markdown",
   "id": "bca1a498-5b49-43d4-a26a-1a1185ae8d58",
   "metadata": {},
   "source": [
    "# 1. Загрузка датасета, разбиение на train test, создание матрицы"
   ]
  },
  {
   "cell_type": "code",
   "execution_count": 5,
   "id": "fedb18d6-9b93-48a1-8935-e4463dd948bc",
   "metadata": {},
   "outputs": [
    {
     "name": "stdout",
     "output_type": "stream",
     "text": [
      "Размер датасета: (100836, 4)\n",
      "Уникальные пользователи: 610\n",
      "Уникальные фильмы: 9724\n"
     ]
    }
   ],
   "source": [
    "ratings = pd.read_csv('movie_data/ratings.csv')\n",
    "movies = pd.read_csv('movie_data/movies.csv')\n",
    "\n",
    "print('Размер датасета:', ratings.shape)\n",
    "print('Уникальные пользователи:', ratings['userId'].nunique())\n",
    "print('Уникальные фильмы:', ratings['movieId'].nunique())"
   ]
  },
  {
   "cell_type": "code",
   "execution_count": null,
   "id": "b7bee283-1a72-4648-bbda-9763cb5495ac",
   "metadata": {},
   "outputs": [],
   "source": []
  },
  {
   "cell_type": "code",
   "execution_count": 24,
   "id": "43df94f7-f933-421a-8759-0f3929528eca",
   "metadata": {},
   "outputs": [],
   "source": [
    "train_data, test_data = train_test_split(ratings, test_size=0.2, random_state=42)"
   ]
  },
  {
   "cell_type": "code",
   "execution_count": 31,
   "id": "b2c7a794-d41a-49f5-a151-9c1ace88d1f0",
   "metadata": {},
   "outputs": [],
   "source": [
    "unique_users = np.unique(ratings.to_numpy()[:, 0]) # уникальные юзеры\n",
    "unique_movies = np.unique(ratings.to_numpy()[:, 1]) # уникальные фильмы\n",
    "\n",
    "user_id_dict = {user_id: i for i, user_id in enumerate(unique_users)}\n",
    "movie_id_dict = {movie_id: i for i, movie_id in enumerate(unique_movies)}"
   ]
  },
  {
   "cell_type": "code",
   "execution_count": 35,
   "id": "c3a2b0b7-a627-43ca-8b84-f811b19e7a7a",
   "metadata": {},
   "outputs": [
    {
     "data": {
      "text/html": [
       "<div>\n",
       "<style scoped>\n",
       "    .dataframe tbody tr th:only-of-type {\n",
       "        vertical-align: middle;\n",
       "    }\n",
       "\n",
       "    .dataframe tbody tr th {\n",
       "        vertical-align: top;\n",
       "    }\n",
       "\n",
       "    .dataframe thead th {\n",
       "        text-align: right;\n",
       "    }\n",
       "</style>\n",
       "<table border=\"1\" class=\"dataframe\">\n",
       "  <thead>\n",
       "    <tr style=\"text-align: right;\">\n",
       "      <th></th>\n",
       "      <th>userId</th>\n",
       "      <th>movieId</th>\n",
       "      <th>rating</th>\n",
       "      <th>timestamp</th>\n",
       "    </tr>\n",
       "  </thead>\n",
       "  <tbody>\n",
       "    <tr>\n",
       "      <th>80568</th>\n",
       "      <td>509</td>\n",
       "      <td>7347</td>\n",
       "      <td>3.0</td>\n",
       "      <td>1435994597</td>\n",
       "    </tr>\n",
       "    <tr>\n",
       "      <th>50582</th>\n",
       "      <td>326</td>\n",
       "      <td>71462</td>\n",
       "      <td>4.0</td>\n",
       "      <td>1322252335</td>\n",
       "    </tr>\n",
       "    <tr>\n",
       "      <th>8344</th>\n",
       "      <td>57</td>\n",
       "      <td>2115</td>\n",
       "      <td>3.0</td>\n",
       "      <td>965798155</td>\n",
       "    </tr>\n",
       "    <tr>\n",
       "      <th>99603</th>\n",
       "      <td>610</td>\n",
       "      <td>1127</td>\n",
       "      <td>4.0</td>\n",
       "      <td>1479544102</td>\n",
       "    </tr>\n",
       "    <tr>\n",
       "      <th>71701</th>\n",
       "      <td>462</td>\n",
       "      <td>2409</td>\n",
       "      <td>2.0</td>\n",
       "      <td>1174438249</td>\n",
       "    </tr>\n",
       "    <tr>\n",
       "      <th>...</th>\n",
       "      <td>...</td>\n",
       "      <td>...</td>\n",
       "      <td>...</td>\n",
       "      <td>...</td>\n",
       "    </tr>\n",
       "    <tr>\n",
       "      <th>6265</th>\n",
       "      <td>42</td>\n",
       "      <td>4005</td>\n",
       "      <td>4.0</td>\n",
       "      <td>996259059</td>\n",
       "    </tr>\n",
       "    <tr>\n",
       "      <th>54886</th>\n",
       "      <td>364</td>\n",
       "      <td>141</td>\n",
       "      <td>4.0</td>\n",
       "      <td>869443367</td>\n",
       "    </tr>\n",
       "    <tr>\n",
       "      <th>76820</th>\n",
       "      <td>480</td>\n",
       "      <td>6867</td>\n",
       "      <td>4.0</td>\n",
       "      <td>1179163171</td>\n",
       "    </tr>\n",
       "    <tr>\n",
       "      <th>860</th>\n",
       "      <td>6</td>\n",
       "      <td>981</td>\n",
       "      <td>3.0</td>\n",
       "      <td>845556567</td>\n",
       "    </tr>\n",
       "    <tr>\n",
       "      <th>15795</th>\n",
       "      <td>103</td>\n",
       "      <td>6711</td>\n",
       "      <td>5.0</td>\n",
       "      <td>1431957425</td>\n",
       "    </tr>\n",
       "  </tbody>\n",
       "</table>\n",
       "<p>80668 rows × 4 columns</p>\n",
       "</div>"
      ],
      "text/plain": [
       "       userId  movieId  rating   timestamp\n",
       "80568     509     7347     3.0  1435994597\n",
       "50582     326    71462     4.0  1322252335\n",
       "8344       57     2115     3.0   965798155\n",
       "99603     610     1127     4.0  1479544102\n",
       "71701     462     2409     2.0  1174438249\n",
       "...       ...      ...     ...         ...\n",
       "6265       42     4005     4.0   996259059\n",
       "54886     364      141     4.0   869443367\n",
       "76820     480     6867     4.0  1179163171\n",
       "860         6      981     3.0   845556567\n",
       "15795     103     6711     5.0  1431957425\n",
       "\n",
       "[80668 rows x 4 columns]"
      ]
     },
     "execution_count": 35,
     "metadata": {},
     "output_type": "execute_result"
    }
   ],
   "source": [
    "train_data"
   ]
  },
  {
   "cell_type": "markdown",
   "id": "67c887da-ea0d-4982-867f-5b6e8116f159",
   "metadata": {},
   "source": [
    "# 2. User-based"
   ]
  },
  {
   "cell_type": "code",
   "execution_count": 37,
   "id": "90c6d780-b3c1-4374-bf26-4d8a08a35294",
   "metadata": {},
   "outputs": [],
   "source": [
    "user_item_matrix = np.zeros((len(unique_users), len(unique_movies)))\n",
    "for user_id, movie_id, rating, _ in train_data.to_numpy():\n",
    "    user_idx = user_id_dict[user_id]\n",
    "    movie_idx = movie_id_dict[movie_id]\n",
    "    user_item_matrix[user_idx, movie_idx] = rating"
   ]
  },
  {
   "cell_type": "code",
   "execution_count": 39,
   "id": "3e0ee4a2-117d-4009-a433-5a3f540108cb",
   "metadata": {},
   "outputs": [],
   "source": [
    "def predict_user_based(user_id, movie_id):\n",
    "    if user_id not in user_id_dict or movie_id not in movie_id_dict:\n",
    "        return np.nan\n",
    "    u_idx = user_id_dict[user_id]\n",
    "    i_idx = movie_id_dict[movie_id]\n",
    "    user_ratings = user_item_matrix[u_idx,:] # ср рейтинг пользователя\n",
    "    r_u_bar = user_ratings[user_ratings > 0].mean() if np.any(user_ratings > 0) else 0\n",
    "    chisl = 0\n",
    "    znam = 0\n",
    "    for v_idx in range(len(unique_users)):\n",
    "        if v_idx != u_idx and user_item_matrix[v_idx, i_idx] > 0:\n",
    "            sim_uv = cosine_similarity(user_item_matrix[u_idx, :], user_item_matrix[v_idx, :])\n",
    "            r_v_bar = user_item_matrix[v_idx, :][user_item_matrix[v_idx, :] > 0].mean() if np.any(user_item_matrix[v_idx, :] > 0) else 0\n",
    "            \n",
    "            chisl += sim_uv * (user_item_matrix[v_idx, i_idx] - r_v_bar)\n",
    "            znam += abs(sim_uv)\n",
    "    if znam == 0:\n",
    "        return r_u_bar\n",
    "    \n",
    "    return r_u_bar + (chisl / znam)"
   ]
  },
  {
   "cell_type": "code",
   "execution_count": 41,
   "id": "d5928d2e-180d-423f-814e-c127eba66451",
   "metadata": {},
   "outputs": [
    {
     "name": "stdout",
     "output_type": "stream",
     "text": [
      "RMSE для User-Based рекомендательной системы: 0.8992\n"
     ]
    }
   ],
   "source": [
    "predicted_ratings_user = []\n",
    "true_ratings_user = []\n",
    "\n",
    "for user_id, movie_id, rating, _ in test_data.to_numpy():\n",
    "    predicted = predict_user_based(user_id, movie_id)\n",
    "    if not np.isnan(predicted):\n",
    "        predicted_ratings_user.append(predicted)\n",
    "        true_ratings_user.append(rating)\n",
    "\n",
    "rmse_user_based = np.sqrt(np.mean((np.array(true_ratings_user) - np.array(predicted_ratings_user))**2))\n",
    "\n",
    "print(f'RMSE для User-Based рекомендательной системы: {rmse_user_based:.4f}')"
   ]
  },
  {
   "cell_type": "markdown",
   "id": "d285c0d9-925a-4418-b2b9-b828922e5c27",
   "metadata": {},
   "source": [
    "# 3. Item-based"
   ]
  },
  {
   "cell_type": "code",
   "execution_count": 58,
   "id": "f2327a17-f1cc-4ca2-b546-393e8a75939e",
   "metadata": {},
   "outputs": [],
   "source": [
    "item_user_matrix = np.zeros((len(unique_movies), len(unique_users)))\n",
    "for user_id, movie_id, rating, _ in train_data.to_numpy():\n",
    "    user_idx = user_id_dict[user_id]\n",
    "    movie_idx = movie_id_dict[movie_id]\n",
    "    item_user_matrix[movie_idx, user_idx] = rating"
   ]
  },
  {
   "cell_type": "code",
   "execution_count": 60,
   "id": "22ccc3fe-e588-4d26-aebf-620a93b9a7a7",
   "metadata": {},
   "outputs": [],
   "source": [
    "def predict_item_based(user_id, movie_id):\n",
    "    if user_id not in user_id_dict or movie_id not in movie_id_dict:\n",
    "        return np.nan\n",
    "    u_idx = user_id_dict[user_id]\n",
    "    i_idx = movie_id_dict[movie_id]\n",
    "    item_ratings = item_user_matrix[i_idx, :]\n",
    "    r_i_bar = item_ratings[item_ratings > 0].mean() if np.any(item_ratings > 0) else 0\n",
    "    chisl = 0\n",
    "    znam = 0\n",
    "    for j_idx in range(len(unique_movies)):\n",
    "        if j_idx != i_idx and item_user_matrix[j_idx, u_idx] > 0:\n",
    "            sim_ij = cosine_similarity(item_user_matrix[i_idx, :], item_user_matrix[j_idx, :])\n",
    "            r_j_bar = item_user_matrix[j_idx, :][item_user_matrix[j_idx, :] > 0].mean() if np.any(item_user_matrix[j_idx, :] > 0) else 0\n",
    "            \n",
    "            chisl += sim_ij * (item_user_matrix[j_idx, u_idx] - r_j_bar)\n",
    "            znam += abs(sim_ij)\n",
    "    if znam == 0:\n",
    "        return r_i_bar\n",
    "\n",
    "    return r_i_bar + (chisl / znam)"
   ]
  },
  {
   "cell_type": "code",
   "execution_count": 62,
   "id": "77f61943-fc6d-4732-a2d2-5c711fed538d",
   "metadata": {},
   "outputs": [
    {
     "name": "stdout",
     "output_type": "stream",
     "text": [
      "RMSE для Item-Based рекомендательной системы: 1.1044\n"
     ]
    }
   ],
   "source": [
    "predicted_ratings_item = []\n",
    "true_ratings_item = []\n",
    "\n",
    "for user_id, movie_id, rating, _ in test_data.to_numpy():\n",
    "    predicted = predict_item_based(user_id, movie_id)\n",
    "    if not np.isnan(predicted):\n",
    "        predicted_ratings_item.append(predicted)\n",
    "        true_ratings_item.append(rating)\n",
    "\n",
    "rmse_item_based = np.sqrt(np.mean((np.array(true_ratings_item) - np.array(predicted_ratings_item))**2))\n",
    "print(f\"RMSE для Item-Based рекомендательной системы: {rmse_item_based:.4f}\")"
   ]
  },
  {
   "cell_type": "markdown",
   "id": "1cd1cca8-85a6-46b8-a33e-fcc912fdcaaa",
   "metadata": {},
   "source": [
    "# 4. Сравнение подходов"
   ]
  },
  {
   "cell_type": "markdown",
   "id": "507c668c-8bcc-42c5-b52b-3d2a5312c48e",
   "metadata": {},
   "source": [
    "На киношных данных User-Based подход оказался более точным, так как его  RMSE (0.8992) ниже, чем у Item-Based подхода.\n",
    "\n",
    "Это говорит о том, что предсказания, основанные на схожести пользователей, лучше соответствуют реальным оценкам.\n",
    "\n",
    "\n",
    "При этом item-based подход считался гораздо дольше, т.к. фильмов в датасете больше.\n",
    "\n",
    "\n",
    "**Общие выводы по подходам:**\n",
    "- User-Based подход может давать более точные рекомендации, он менее масштабируем и эффективен в условиях, когда количество пользователей очень велико. \n",
    "- Item-Based подход более практичен для крупных систем, так как вычисления схожести между фильмами обычно происходят реже, чем между пользователями, что делает его более подходящим для \"холодного старта\" новых пользователей."
   ]
  },
  {
   "cell_type": "code",
   "execution_count": null,
   "id": "26a0c2c3-15e1-4dd0-9c59-eb3ed1a3926c",
   "metadata": {},
   "outputs": [],
   "source": []
  }
 ],
 "metadata": {
  "kernelspec": {
   "display_name": "Python [conda env:base] *",
   "language": "python",
   "name": "conda-base-py"
  },
  "language_info": {
   "codemirror_mode": {
    "name": "ipython",
    "version": 3
   },
   "file_extension": ".py",
   "mimetype": "text/x-python",
   "name": "python",
   "nbconvert_exporter": "python",
   "pygments_lexer": "ipython3",
   "version": "3.12.7"
  }
 },
 "nbformat": 4,
 "nbformat_minor": 5
}
