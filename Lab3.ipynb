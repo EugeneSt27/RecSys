{
 "cells": [
  {
   "cell_type": "markdown",
   "id": "fc8e7093-0f02-4a7c-b4e3-26dc2f2702ed",
   "metadata": {},
   "source": [
    "# 0. Импорт библиотек"
   ]
  },
  {
   "cell_type": "code",
   "execution_count": 125,
   "id": "f6962bb6-65c5-4619-9196-813c4494c2d4",
   "metadata": {},
   "outputs": [],
   "source": [
    "import pandas as pd\n",
    "import numpy as np\n",
    "from math import sqrt\n",
    "from collections import defaultdict\n",
    "from sklearn.model_selection import train_test_split"
   ]
  },
  {
   "cell_type": "markdown",
   "id": "14532952-b738-4999-b2e8-72962dcd43dd",
   "metadata": {},
   "source": [
    "# 1. Сборка датасета, разбиение на train test"
   ]
  },
  {
   "cell_type": "code",
   "execution_count": 290,
   "id": "20cbb1a8-6711-42c8-a92d-c00070cf4d52",
   "metadata": {},
   "outputs": [],
   "source": [
    "ratings = pd.read_csv('restaurant_data/rating_final.csv')"
   ]
  },
  {
   "cell_type": "code",
   "execution_count": 135,
   "id": "6ae3318d-c217-4d28-a1da-f875df2fc4bc",
   "metadata": {},
   "outputs": [
    {
     "data": {
      "text/plain": [
       "Index(['userID', 'placeID', 'rating', 'food_rating', 'service_rating'], dtype='object')"
      ]
     },
     "execution_count": 135,
     "metadata": {},
     "output_type": "execute_result"
    }
   ],
   "source": [
    "ratings.columns"
   ]
  },
  {
   "cell_type": "code",
   "execution_count": 137,
   "id": "2852ff1c-d4e8-4da3-a65b-57ffda977cde",
   "metadata": {},
   "outputs": [
    {
     "name": "stdout",
     "output_type": "stream",
     "text": [
      "Общее количество уникальных оценок: 1161\n",
      "Количество уникальных пользователей: 138\n",
      "Количество уникальных ресторанов: 130\n"
     ]
    }
   ],
   "source": [
    "# Выбираем столбец рейтинга (rating) как основную целевую переменную.\n",
    "print(f'Общее количество уникальных оценок: {len(ratings)}')\n",
    "print(f'Количество уникальных пользователей: {ratings['userID'].nunique()}')\n",
    "print(f'Количество уникальных ресторанов: {ratings['placeID'].nunique()}')"
   ]
  },
  {
   "cell_type": "code",
   "execution_count": 139,
   "id": "60fb6e5b-4839-41b1-8261-546bc616eb56",
   "metadata": {},
   "outputs": [
    {
     "data": {
      "text/html": [
       "<div>\n",
       "<style scoped>\n",
       "    .dataframe tbody tr th:only-of-type {\n",
       "        vertical-align: middle;\n",
       "    }\n",
       "\n",
       "    .dataframe tbody tr th {\n",
       "        vertical-align: top;\n",
       "    }\n",
       "\n",
       "    .dataframe thead th {\n",
       "        text-align: right;\n",
       "    }\n",
       "</style>\n",
       "<table border=\"1\" class=\"dataframe\">\n",
       "  <thead>\n",
       "    <tr style=\"text-align: right;\">\n",
       "      <th></th>\n",
       "      <th>userID</th>\n",
       "      <th>placeID</th>\n",
       "      <th>rating</th>\n",
       "      <th>food_rating</th>\n",
       "      <th>service_rating</th>\n",
       "    </tr>\n",
       "  </thead>\n",
       "  <tbody>\n",
       "    <tr>\n",
       "      <th>0</th>\n",
       "      <td>U1077</td>\n",
       "      <td>135085</td>\n",
       "      <td>2</td>\n",
       "      <td>2</td>\n",
       "      <td>2</td>\n",
       "    </tr>\n",
       "    <tr>\n",
       "      <th>1</th>\n",
       "      <td>U1077</td>\n",
       "      <td>135038</td>\n",
       "      <td>2</td>\n",
       "      <td>2</td>\n",
       "      <td>1</td>\n",
       "    </tr>\n",
       "    <tr>\n",
       "      <th>2</th>\n",
       "      <td>U1077</td>\n",
       "      <td>132825</td>\n",
       "      <td>2</td>\n",
       "      <td>2</td>\n",
       "      <td>2</td>\n",
       "    </tr>\n",
       "    <tr>\n",
       "      <th>3</th>\n",
       "      <td>U1077</td>\n",
       "      <td>135060</td>\n",
       "      <td>1</td>\n",
       "      <td>2</td>\n",
       "      <td>2</td>\n",
       "    </tr>\n",
       "    <tr>\n",
       "      <th>4</th>\n",
       "      <td>U1068</td>\n",
       "      <td>135104</td>\n",
       "      <td>1</td>\n",
       "      <td>1</td>\n",
       "      <td>2</td>\n",
       "    </tr>\n",
       "  </tbody>\n",
       "</table>\n",
       "</div>"
      ],
      "text/plain": [
       "  userID  placeID  rating  food_rating  service_rating\n",
       "0  U1077   135085       2            2               2\n",
       "1  U1077   135038       2            2               1\n",
       "2  U1077   132825       2            2               2\n",
       "3  U1077   135060       1            2               2\n",
       "4  U1068   135104       1            1               2"
      ]
     },
     "execution_count": 139,
     "metadata": {},
     "output_type": "execute_result"
    }
   ],
   "source": [
    "ratings.head()"
   ]
  },
  {
   "cell_type": "code",
   "execution_count": 141,
   "id": "359d8571-3266-46b8-9509-22b5b3261729",
   "metadata": {},
   "outputs": [
    {
     "name": "stdout",
     "output_type": "stream",
     "text": [
      "Размер тренировочной выборки: 812\n",
      "Размер тестовой выборки: 349\n"
     ]
    }
   ],
   "source": [
    "train_data, test_data = train_test_split(\n",
    "    ratings, \n",
    "    test_size=0.3, \n",
    "    random_state=42)\n",
    "\n",
    "print(f'Размер тренировочной выборки: {len(train_data)}')\n",
    "print(f'Размер тестовой выборки: {len(test_data)}')"
   ]
  },
  {
   "cell_type": "markdown",
   "id": "70923a03-5c31-45b7-b8f3-14e402683fe1",
   "metadata": {},
   "source": [
    "# 2. Baseline SVD"
   ]
  },
  {
   "cell_type": "code",
   "execution_count": 143,
   "id": "b22cf4ff-17b0-4b5c-99b9-968dea96df75",
   "metadata": {},
   "outputs": [
    {
     "name": "stdout",
     "output_type": "stream",
     "text": [
      "Пользователей (U): 138, Ресторанов (I): 130\n"
     ]
    }
   ],
   "source": [
    "unique_users = ratings['userID'].unique()\n",
    "unique_places = ratings['placeID'].unique()\n",
    "\n",
    "user_id_dict = {user_id: i for i, user_id in enumerate(unique_users)}\n",
    "place_id_dict = {place_id: i for i, place_id in enumerate(unique_places)}\n",
    "\n",
    "n_users = len(unique_users)\n",
    "n_places = len(unique_places)\n",
    "\n",
    "train_data_indexed = train_data.copy()\n",
    "train_data_indexed['u_idx'] = train_data_indexed['userID'].map(user_id_dict) # добавлены индексы в трейн\n",
    "train_data_indexed['i_idx'] = train_data_indexed['placeID'].map(place_id_dict)\n",
    "train_data_list = train_data_indexed[['u_idx', 'i_idx', 'rating']].to_numpy()\n",
    "\n",
    "print(f'Пользователей (U): {n_users}, Ресторанов (I): {n_places}')"
   ]
  },
  {
   "cell_type": "markdown",
   "id": "3a588b7a-fa6d-4b16-9a34-87db304de2c6",
   "metadata": {},
   "source": [
    "## Обучение базового алгоритма с помощью SGD"
   ]
  },
  {
   "attachments": {
    "4ee2a6d3-6fea-4024-a6a8-d8a9d7c2561b.png": {
     "image/png": "[encoded data removed]"
    },
    "b788cdd3-e8ce-4882-874a-b456dfd68422.png": {
     "image/png": "[encoded data removed]"
    }
   },
   "cell_type": "markdown",
   "id": "7ff69a06-1941-40b9-8dd0-c7c6852f1ad0",
   "metadata": {},
   "source": [
    "![image.png](attachment:b788cdd3-e8ce-4882-874a-b456dfd68422.png)\n",
    "![image.png](attachment:4ee2a6d3-6fea-4024-a6a8-d8a9d7c2561b.png)"
   ]
  },
  {
   "cell_type": "code",
   "execution_count": 145,
   "id": "d9985acd-d3b7-4a64-9657-6f1d70b87a39",
   "metadata": {},
   "outputs": [
    {
     "name": "stdout",
     "output_type": "stream",
     "text": [
      "Глобальный средний рейтинг (μ): 1.2094\n",
      "Начало обучения SVD (K=10, λ=0.1)\n"
     ]
    }
   ],
   "source": [
    "K = 10\n",
    "alpha = 0.01\n",
    "lambda_reg = 0.1\n",
    "n_epochs = 25\n",
    "\n",
    "P = np.random.normal(0, 0.1, (n_users, K)) # Пользовательские факторы\n",
    "Q = np.random.normal(0, 0.1, (n_places, K)) # Факторы ресторанов\n",
    "b_u = np.zeros(n_users) # Смещения пользователей\n",
    "b_i = np.zeros(n_places) # Смещения ресторанов\n",
    "mu = train_data['rating'].mean() # Глобальное среднее\n",
    "\n",
    "print(f'Глобальный средний рейтинг (μ): {mu:.4f}')\n",
    "print(f'Начало обучения SVD (K={K}, λ={lambda_reg})')"
   ]
  },
  {
   "cell_type": "code",
   "execution_count": 147,
   "id": "366d74aa-2981-45da-ba63-6e2093883680",
   "metadata": {},
   "outputs": [
    {
     "name": "stdout",
     "output_type": "stream",
     "text": [
      "Обучение Базовой SVD завершено. Параметры P, Q, b_u, b_i сохранены.\n"
     ]
    }
   ],
   "source": [
    "for epoch in range(n_epochs):\n",
    "    np.random.shuffle(train_data_list)\n",
    "    count = 0\n",
    "    \n",
    "    for u_idx, i_idx, rating in train_data_list:\n",
    "        \n",
    "        u_idx = int(u_idx)\n",
    "        i_idx = int(i_idx)\n",
    "        \n",
    "        # 1. Предсказание: r_hat = mu + b_u + b_i + q_i^T * p_u\n",
    "        r_hat = mu + b_u[u_idx] + b_i[i_idx] + np.dot(Q[i_idx, :], P[u_idx, :])\n",
    "        r_hat = np.clip(r_hat, 0, 2) # Ограничиваем диапазон оценок [0, 2]\n",
    "\n",
    "        error = rating - r_hat\n",
    "        count += 1\n",
    "\n",
    "        b_u[u_idx] += alpha * (error - lambda_reg * b_u[u_idx])\n",
    "        b_i[i_idx] += alpha * (error - lambda_reg * b_i[i_idx])\n",
    "\n",
    "        p_u_old = P[u_idx, :].copy()\n",
    "        q_i_old = Q[i_idx, :].copy()\n",
    "        \n",
    "        P[u_idx, :] += alpha * (error * q_i_old - lambda_reg * p_u_old)\n",
    "        Q[i_idx, :] += alpha * (error * p_u_old - lambda_reg * q_i_old)\n",
    "\n",
    "print('Обучение Базовой SVD завершено. Параметры P, Q, b_u, b_i сохранены.')"
   ]
  },
  {
   "cell_type": "code",
   "execution_count": 149,
   "id": "4b318ddd-bded-40b7-9c6a-0c8ceffcae7b",
   "metadata": {},
   "outputs": [],
   "source": [
    "def predict_svd_base(user_id, place_id):\n",
    "    if user_id not in user_id_dict or place_id not in place_id_dict:\n",
    "        return mu \n",
    "        \n",
    "    u_idx = user_id_dict[user_id]\n",
    "    i_idx = place_id_dict[place_id]\n",
    "    prediction = mu + b_u[u_idx] + b_i[i_idx] + np.dot(Q[i_idx, :], P[u_idx, :])\n",
    "    \n",
    "    return np.clip(prediction, 0, 2)"
   ]
  },
  {
   "cell_type": "markdown",
   "id": "f507cf02-4292-414c-9753-26a7a71a76fa",
   "metadata": {},
   "source": [
    "## Расчет MAP@50 для базового алгоритма"
   ]
  },
  {
   "cell_type": "code",
   "execution_count": 208,
   "id": "4750a5e7-4bce-4af6-9b67-1fd3a730edaa",
   "metadata": {},
   "outputs": [],
   "source": [
    "RELEVANCE_THRESHOLD = 2\n",
    "K_METRIC = 50"
   ]
  },
  {
   "cell_type": "code",
   "execution_count": 151,
   "id": "ea714230-092c-4c40-af0a-36f3e3bff81f",
   "metadata": {},
   "outputs": [
    {
     "name": "stderr",
     "output_type": "stream",
     "text": [
      "C:\\Users\\User\\AppData\\Local\\Temp\\ipykernel_21948\\2516287565.py:4: DeprecationWarning: DataFrameGroupBy.apply operated on the grouping columns. This behavior is deprecated, and in a future version of pandas the grouping columns will be excluded from the operation. Either pass `include_groups=False` to exclude the groupings or explicitly select the grouping columns after groupby to silence this warning.\n",
      "  test_user_ratings = test_data.groupby('userID').apply(\n"
     ]
    }
   ],
   "source": [
    "test_user_ratings = test_data.groupby('userID').apply(\n",
    "    lambda x: dict(zip(x['placeID'], x['rating']))\n",
    ").to_dict()"
   ]
  },
  {
   "cell_type": "code",
   "execution_count": 153,
   "id": "817ba87b-c932-4ad0-90f5-a101421e8642",
   "metadata": {},
   "outputs": [],
   "source": [
    "def calculate_average_precision_at_k(recommended_items, relevant_items, k):\n",
    "    if not relevant_items:\n",
    "        return 0.0\n",
    "    hits = 0\n",
    "    sum_precisions = 0\n",
    "    \n",
    "    for i, item in enumerate(recommended_items[:k]):\n",
    "        if item in relevant_items:\n",
    "            hits += 1\n",
    "            precision_at_i = hits / (i + 1.0)\n",
    "            sum_precisions += precision_at_i\n",
    "            \n",
    "    return sum_precisions / min(len(relevant_items), k) if hits > 0 else 0.0"
   ]
  },
  {
   "cell_type": "code",
   "execution_count": 155,
   "id": "7da88b81-420b-4362-a627-9d3afa48a3c8",
   "metadata": {},
   "outputs": [
    {
     "name": "stdout",
     "output_type": "stream",
     "text": [
      "MAP@50 для Базовой SVD (Контроль): 0.0323\n"
     ]
    }
   ],
   "source": [
    "all_ap_scores_base = []\n",
    "all_places = ratings['placeID'].unique()\n",
    "\n",
    "for user_id, ratings_dict in test_user_ratings.items():\n",
    "    \n",
    "    user_predictions = {}\n",
    "    rated_places_train = set(train_data[train_data['userID'] == user_id]['placeID'])\n",
    "\n",
    "    for place_id in all_places:\n",
    "        if place_id not in rated_places_train: # пользователь не оценивал эти места в трейне\n",
    "            predicted_rating = predict_svd_base(user_id, place_id) \n",
    "            user_predictions[place_id] = predicted_rating\n",
    "\n",
    "    recommended_items = sorted( # ранжируем!\n",
    "        user_predictions, \n",
    "        key=user_predictions.get, \n",
    "        reverse=True\n",
    "    )[:K_METRIC]\n",
    "\n",
    "    relevant_items = [item for item, score in ratings_dict.items() if score >= RELEVANCE_THRESHOLD] # берем те, которые подошли по порогу релевантности\n",
    "    all_ap_scores_base.append(calculate_average_precision_at_k(recommended_items, relevant_items, K_METRIC))\n",
    "\n",
    "MAP_BASE_SVD = np.mean(all_ap_scores_base)\n",
    "print(f'MAP@50 для Базовой SVD (Контроль): {MAP_BASE_SVD:.4f}')"
   ]
  },
  {
   "cell_type": "markdown",
   "id": "46caa25b-e767-495d-9d4d-f7feb0c32cef",
   "metadata": {},
   "source": [
    "# 3. Постфильтрация по местоположению"
   ]
  },
  {
   "cell_type": "markdown",
   "id": "59ffa5d8-24cb-45e5-a0f0-bc4214fd6342",
   "metadata": {},
   "source": [
    "в качестве контекста решил использовать местоположение клиента по отношении к ресторану"
   ]
  },
  {
   "cell_type": "markdown",
   "id": "567d19c3-4f2d-4d40-96ad-031096b90b6b",
   "metadata": {},
   "source": [
    "## Расчет расстояния по координатам"
   ]
  },
  {
   "cell_type": "code",
   "execution_count": 157,
   "id": "0ac15e54-68c3-4e5e-9a71-2aae4dc26f59",
   "metadata": {},
   "outputs": [],
   "source": [
    "user_profile_df = pd.read_csv('restaurant_data/userprofile.csv')\n",
    "places_df = pd.read_csv('restaurant_data/geoplaces2.csv', encoding='latin-1')"
   ]
  },
  {
   "cell_type": "code",
   "execution_count": 159,
   "id": "17d8224b-d147-4ea0-93c6-1b3d171476e4",
   "metadata": {},
   "outputs": [
    {
     "data": {
      "text/html": [
       "<div>\n",
       "<style scoped>\n",
       "    .dataframe tbody tr th:only-of-type {\n",
       "        vertical-align: middle;\n",
       "    }\n",
       "\n",
       "    .dataframe tbody tr th {\n",
       "        vertical-align: top;\n",
       "    }\n",
       "\n",
       "    .dataframe thead th {\n",
       "        text-align: right;\n",
       "    }\n",
       "</style>\n",
       "<table border=\"1\" class=\"dataframe\">\n",
       "  <thead>\n",
       "    <tr style=\"text-align: right;\">\n",
       "      <th></th>\n",
       "      <th>userID</th>\n",
       "      <th>latitude</th>\n",
       "      <th>longitude</th>\n",
       "      <th>smoker</th>\n",
       "      <th>drink_level</th>\n",
       "      <th>dress_preference</th>\n",
       "      <th>ambience</th>\n",
       "      <th>transport</th>\n",
       "      <th>marital_status</th>\n",
       "      <th>hijos</th>\n",
       "      <th>birth_year</th>\n",
       "      <th>interest</th>\n",
       "      <th>personality</th>\n",
       "      <th>religion</th>\n",
       "      <th>activity</th>\n",
       "      <th>color</th>\n",
       "      <th>weight</th>\n",
       "      <th>budget</th>\n",
       "      <th>height</th>\n",
       "    </tr>\n",
       "  </thead>\n",
       "  <tbody>\n",
       "    <tr>\n",
       "      <th>0</th>\n",
       "      <td>U1001</td>\n",
       "      <td>22.139997</td>\n",
       "      <td>-100.978803</td>\n",
       "      <td>false</td>\n",
       "      <td>abstemious</td>\n",
       "      <td>informal</td>\n",
       "      <td>family</td>\n",
       "      <td>on foot</td>\n",
       "      <td>single</td>\n",
       "      <td>independent</td>\n",
       "      <td>1989</td>\n",
       "      <td>variety</td>\n",
       "      <td>thrifty-protector</td>\n",
       "      <td>none</td>\n",
       "      <td>student</td>\n",
       "      <td>black</td>\n",
       "      <td>69</td>\n",
       "      <td>medium</td>\n",
       "      <td>1.77</td>\n",
       "    </tr>\n",
       "    <tr>\n",
       "      <th>1</th>\n",
       "      <td>U1002</td>\n",
       "      <td>22.150087</td>\n",
       "      <td>-100.983325</td>\n",
       "      <td>false</td>\n",
       "      <td>abstemious</td>\n",
       "      <td>informal</td>\n",
       "      <td>family</td>\n",
       "      <td>public</td>\n",
       "      <td>single</td>\n",
       "      <td>independent</td>\n",
       "      <td>1990</td>\n",
       "      <td>technology</td>\n",
       "      <td>hunter-ostentatious</td>\n",
       "      <td>Catholic</td>\n",
       "      <td>student</td>\n",
       "      <td>red</td>\n",
       "      <td>40</td>\n",
       "      <td>low</td>\n",
       "      <td>1.87</td>\n",
       "    </tr>\n",
       "    <tr>\n",
       "      <th>2</th>\n",
       "      <td>U1003</td>\n",
       "      <td>22.119847</td>\n",
       "      <td>-100.946527</td>\n",
       "      <td>false</td>\n",
       "      <td>social drinker</td>\n",
       "      <td>formal</td>\n",
       "      <td>family</td>\n",
       "      <td>public</td>\n",
       "      <td>single</td>\n",
       "      <td>independent</td>\n",
       "      <td>1989</td>\n",
       "      <td>none</td>\n",
       "      <td>hard-worker</td>\n",
       "      <td>Catholic</td>\n",
       "      <td>student</td>\n",
       "      <td>blue</td>\n",
       "      <td>60</td>\n",
       "      <td>low</td>\n",
       "      <td>1.69</td>\n",
       "    </tr>\n",
       "    <tr>\n",
       "      <th>3</th>\n",
       "      <td>U1004</td>\n",
       "      <td>18.867000</td>\n",
       "      <td>-99.183000</td>\n",
       "      <td>false</td>\n",
       "      <td>abstemious</td>\n",
       "      <td>informal</td>\n",
       "      <td>family</td>\n",
       "      <td>public</td>\n",
       "      <td>single</td>\n",
       "      <td>independent</td>\n",
       "      <td>1940</td>\n",
       "      <td>variety</td>\n",
       "      <td>hard-worker</td>\n",
       "      <td>none</td>\n",
       "      <td>professional</td>\n",
       "      <td>green</td>\n",
       "      <td>44</td>\n",
       "      <td>medium</td>\n",
       "      <td>1.53</td>\n",
       "    </tr>\n",
       "    <tr>\n",
       "      <th>4</th>\n",
       "      <td>U1005</td>\n",
       "      <td>22.183477</td>\n",
       "      <td>-100.959891</td>\n",
       "      <td>false</td>\n",
       "      <td>abstemious</td>\n",
       "      <td>no preference</td>\n",
       "      <td>family</td>\n",
       "      <td>public</td>\n",
       "      <td>single</td>\n",
       "      <td>independent</td>\n",
       "      <td>1992</td>\n",
       "      <td>none</td>\n",
       "      <td>thrifty-protector</td>\n",
       "      <td>Catholic</td>\n",
       "      <td>student</td>\n",
       "      <td>black</td>\n",
       "      <td>65</td>\n",
       "      <td>medium</td>\n",
       "      <td>1.69</td>\n",
       "    </tr>\n",
       "  </tbody>\n",
       "</table>\n",
       "</div>"
      ],
      "text/plain": [
       "  userID   latitude   longitude smoker     drink_level dress_preference  \\\n",
       "0  U1001  22.139997 -100.978803  false      abstemious         informal   \n",
       "1  U1002  22.150087 -100.983325  false      abstemious         informal   \n",
       "2  U1003  22.119847 -100.946527  false  social drinker           formal   \n",
       "3  U1004  18.867000  -99.183000  false      abstemious         informal   \n",
       "4  U1005  22.183477 -100.959891  false      abstemious    no preference   \n",
       "\n",
       "  ambience transport marital_status        hijos  birth_year    interest  \\\n",
       "0   family   on foot         single  independent        1989     variety   \n",
       "1   family    public         single  independent        1990  technology   \n",
       "2   family    public         single  independent        1989        none   \n",
       "3   family    public         single  independent        1940     variety   \n",
       "4   family    public         single  independent        1992        none   \n",
       "\n",
       "           personality  religion      activity  color  weight  budget  height  \n",
       "0    thrifty-protector      none       student  black      69  medium    1.77  \n",
       "1  hunter-ostentatious  Catholic       student    red      40     low    1.87  \n",
       "2          hard-worker  Catholic       student   blue      60     low    1.69  \n",
       "3          hard-worker      none  professional  green      44  medium    1.53  \n",
       "4    thrifty-protector  Catholic       student  black      65  medium    1.69  "
      ]
     },
     "execution_count": 159,
     "metadata": {},
     "output_type": "execute_result"
    }
   ],
   "source": [
    "user_profile_df.head()"
   ]
  },
  {
   "cell_type": "code",
   "execution_count": 161,
   "id": "91772dc3-048e-43db-af04-2b64e83f13e4",
   "metadata": {},
   "outputs": [],
   "source": [
    "R_EARTH = 6371 # Радиус Земли в км\n",
    "DEG_TO_RAD = np.pi / 180.0\n",
    "MAX_DISTANCE_KM = 2.0 "
   ]
  },
  {
   "cell_type": "code",
   "execution_count": 163,
   "id": "a5519dcb-a458-4252-8348-24cebf9a38af",
   "metadata": {},
   "outputs": [],
   "source": [
    "# формула Гаверсинуса\n",
    "def haversine_distance(lat1, lon1, lat2, lon2):\n",
    "    \n",
    "    # Конвертация градусов в радианы\n",
    "    lat1_rad, lon1_rad = lat1 * DEG_TO_RAD, lon1 * DEG_TO_RAD\n",
    "    lat2_rad, lon2_rad = lat2 * DEG_TO_RAD, lon2 * DEG_TO_RAD\n",
    "    \n",
    "    dLat = lat2_rad - lat1_rad\n",
    "    dLon = lon2_rad - lon1_rad\n",
    "\n",
    "    a = np.sin(dLat / 2) ** 2 + \\\n",
    "        np.cos(lat1_rad) * np.cos(lat2_rad) * \\\n",
    "        np.sin(dLon / 2) ** 2\n",
    "    \n",
    "    c = 2 * np.arctan2(np.sqrt(a), np.sqrt(1 - a))\n",
    "    return R_EARTH * c"
   ]
  },
  {
   "cell_type": "code",
   "execution_count": 165,
   "id": "69c79c81-dd25-4340-856a-bec5bc6ed0b4",
   "metadata": {},
   "outputs": [
    {
     "name": "stderr",
     "output_type": "stream",
     "text": [
      "C:\\Users\\User\\AppData\\Local\\Temp\\ipykernel_21948\\3952733740.py:9: DeprecationWarning: DataFrameGroupBy.apply operated on the grouping columns. This behavior is deprecated, and in a future version of pandas the grouping columns will be excluded from the operation. Either pass `include_groups=False` to exclude the groupings or explicitly select the grouping columns after groupby to silence this warning.\n",
      "  test_user_ratings = test_data.groupby('userID').apply(\n"
     ]
    }
   ],
   "source": [
    "user_profile_df = user_profile_df[['userID', 'latitude', 'longitude']].rename(\n",
    "    columns={'latitude': 'u_lat', 'longitude': 'u_lon'}\n",
    ")\n",
    "user_loc_dict = user_profile_df.set_index('userID').to_dict('index')\n",
    "\n",
    "place_coords_df = places_df[['placeID', 'latitude', 'longitude']].drop_duplicates(subset=['placeID'])\n",
    "place_coords_dict = place_coords_df.set_index('placeID')[['latitude', 'longitude']].to_dict('index')\n",
    "\n",
    "test_user_ratings = test_data.groupby('userID').apply(\n",
    "    lambda x: dict(zip(x['placeID'], x['rating']))\n",
    ").to_dict()\n",
    "all_places = ratings['placeID'].unique()"
   ]
  },
  {
   "cell_type": "code",
   "execution_count": 167,
   "id": "14e60f9e-ab14-4ec0-8fb2-7e86001dd305",
   "metadata": {},
   "outputs": [
    {
     "name": "stdout",
     "output_type": "stream",
     "text": [
      "MAP@50 для SVD с постфильтрацией (радиус 2.0 км): 0.1243\n"
     ]
    }
   ],
   "source": [
    "all_ap_scores_post_filter = []\n",
    "\n",
    "for user_id, ratings_dict in test_user_ratings.items():\n",
    "    if user_id not in user_avg_loc_dict: \n",
    "        continue\n",
    "        \n",
    "    # Получаем контекст пользователя\n",
    "    user_context = user_avg_loc_dict[user_id]\n",
    "    u_avg_lat = user_context['u_avg_lat']\n",
    "    u_avg_lon = user_context['u_avg_lon']\n",
    "\n",
    "    user_predictions_post_filter = {}\n",
    "    rated_places_train = set(train_data[train_data['userID'] == user_id]['placeID'])\n",
    "    \n",
    "    for place_id in all_places:\n",
    "        # Пропускаем места, которые пользователь уже оценил в train\n",
    "        if place_id not in rated_places_train:\n",
    "\n",
    "            place_coords = place_coords_dict.get(place_id)\n",
    "            if not place_coords: continue # Если координат нет, пропускаем\n",
    "            \n",
    "            p_lat = place_coords['latitude']\n",
    "            p_lon = place_coords['longitude']\n",
    "            distance = haversine_distance(u_avg_lat, u_avg_lon, p_lat, p_lon) # ищем расстояние от юзера до ресторана\n",
    "            \n",
    "            if distance <= MAX_DISTANCE_KM:\n",
    "                predicted_rating = predict_svd_base(user_id, place_id) \n",
    "                if not np.isnan(predicted_rating):\n",
    "                    user_predictions_post_filter[place_id] = predicted_rating\n",
    "\n",
    "    # рассчит метрику AP@50\n",
    "    recommended_items = sorted(\n",
    "        user_predictions_post_filter, \n",
    "        key=user_predictions_post_filter.get, \n",
    "        reverse=True\n",
    "    )[:K_METRIC]\n",
    "\n",
    "    relevant_items = [item for item, score in ratings_dict.items() if score >= RELEVANCE_THRESHOLD]\n",
    "    \n",
    "    all_ap_scores_post_filter.append(calculate_average_precision_at_k(recommended_items, relevant_items, K_METRIC))\n",
    "\n",
    "MAP_POST_FILTER = np.mean(all_ap_scores_post_filter)\n",
    "print(f'MAP@50 для SVD с постфильтрацией (радиус {MAX_DISTANCE_KM} км): {MAP_POST_FILTER:.4f}')"
   ]
  },
  {
   "cell_type": "code",
   "execution_count": 169,
   "id": "385f98a1-8be2-4867-b84a-bf62bc974c25",
   "metadata": {},
   "outputs": [
    {
     "name": "stdout",
     "output_type": "stream",
     "text": [
      "с применением постфильтрации MAP@50 выросла в 3.847 раз(а)\n"
     ]
    }
   ],
   "source": [
    "print(f'с применением постфильтрации MAP@50 выросла в {MAP_POST_FILTER/MAP_BASE_SVD:.3f} раз(а)')"
   ]
  },
  {
   "cell_type": "markdown",
   "id": "3cbc819b-f0ca-4b60-9e81-d92306f70859",
   "metadata": {},
   "source": [
    "# 4. Контекстное моделирование"
   ]
  },
  {
   "cell_type": "markdown",
   "id": "c232e366-a554-424e-91fa-e6cd81c6dbe8",
   "metadata": {},
   "source": [
    "## 4.1 Контекст - любимая кухня"
   ]
  },
  {
   "cell_type": "code",
   "execution_count": 171,
   "id": "4b178d64-619b-4808-8aa3-d8da84335815",
   "metadata": {},
   "outputs": [],
   "source": [
    "user_cuisine_df = pd.read_csv('restaurant_data/usercuisine.csv')\n",
    "chefmoz_cuisine_df = pd.read_csv('restaurant_data/chefmozcuisine.csv')\n",
    "\n",
    "# ключ: userID, Значение: любимые кухни\n",
    "user_cuisine_dict = defaultdict(set)\n",
    "for index, row in user_cuisine_df.iterrows():\n",
    "    user_cuisine_dict[row['userID']].add(row['Rcuisine'])\n",
    "    \n",
    "# Ключ: placeID, Значение: Множество кухонь, которые предлагает место\n",
    "place_cuisine_dict = defaultdict(set)\n",
    "for index, row in chefmoz_cuisine_df.iterrows():\n",
    "    place_cuisine_dict[row['placeID']].add(row['Rcuisine'])"
   ]
  },
  {
   "cell_type": "code",
   "execution_count": 178,
   "id": "40d13161-661c-471f-a31a-176557ea8946",
   "metadata": {},
   "outputs": [],
   "source": [
    "def predict_svd_c(user_id, place_id):\n",
    "    # базовое предсказание\n",
    "    predicted_rating = predict_svd_base(user_id, place_id) \n",
    "\n",
    "    if np.isnan(predicted_rating):\n",
    "        return np.nan\n",
    "    # контекстное смещение\n",
    "    user_cuisines = user_cuisine_dict.get(user_id, set())\n",
    "    place_cuisines = place_cuisine_dict.get(place_id, set())\n",
    "    matching_cuisines = user_cuisines.intersection(place_cuisines)\n",
    "    context_bias = 0.0\n",
    "    \n",
    "    if matching_cuisines:\n",
    "        context_bias = CONTEXT_WEIGHT_CUISINE\n",
    "    else:\n",
    "        context_bias = 0.0 # если нет совпадений, то никак не меняем баес\n",
    "        \n",
    "    final_prediction = predicted_rating + context_bias\n",
    "    \n",
    "    return final_prediction"
   ]
  },
  {
   "cell_type": "code",
   "execution_count": 284,
   "id": "c5f5becd-68c5-45ee-9903-8e07216b57bf",
   "metadata": {},
   "outputs": [
    {
     "name": "stdout",
     "output_type": "stream",
     "text": [
      "MAP@50 для SVD с Контекстным Моделированием (Тип кухни, Bias=5): 0.0213\n"
     ]
    }
   ],
   "source": [
    "CONTEXT_WEIGHT_CUISINE = 5\n",
    "all_ap_scores_svd_c = []\n",
    "\n",
    "for user_id, ratings_dict in test_user_ratings.items():\n",
    "    \n",
    "    user_predictions_svd_c = {}\n",
    "    rated_places_train = set(train_data[train_data['userID'] == user_id]['placeID'])\n",
    "    \n",
    "    for place_id in all_places:\n",
    "        if place_id not in rated_places_train:\n",
    "\n",
    "            predicted_rating = predict_svd_c(user_id, place_id) # SVD-c !!!\n",
    "            \n",
    "            if not np.isnan(predicted_rating):\n",
    "                user_predictions_svd_c[place_id] = predicted_rating\n",
    "\n",
    "    # Ранжирование и Расчет AP\n",
    "    recommended_items = sorted(\n",
    "        user_predictions_svd_c, \n",
    "        key=user_predictions_svd_c.get, \n",
    "        reverse=True\n",
    "    )[:K_METRIC]\n",
    "    \n",
    "    relevant_items = [item for item, score in ratings_dict.items() if score >= RELEVANCE_THRESHOLD]\n",
    "    \n",
    "    all_ap_scores_svd_c.append(calculate_average_precision_at_k(recommended_items, relevant_items, K_METRIC))\n",
    "\n",
    "MAP_SVD_C = np.mean(all_ap_scores_svd_c)\n",
    "print(f\"MAP@50 для SVD с Контекстным Моделированием (Тип кухни, Bias={CONTEXT_WEIGHT_CUISINE}): {MAP_SVD_C:.4f}\")"
   ]
  },
  {
   "cell_type": "markdown",
   "id": "92dbb945-4d9e-43bd-9785-86b67961910a",
   "metadata": {},
   "source": [
    "Результаты хуже чем базовый алгоритм...\n",
    "\n",
    "Значит очень много шума и предпочтения по кухням у пользователей из выборки весьма размытое."
   ]
  },
  {
   "cell_type": "markdown",
   "id": "45ca9e3a-b3ca-4095-baa1-570bd7296add",
   "metadata": {},
   "source": [
    "## 4.2 Контекст - бюджет пользователя"
   ]
  },
  {
   "cell_type": "code",
   "execution_count": 202,
   "id": "f0754250-cff6-4c0b-a11c-511836a7eba3",
   "metadata": {},
   "outputs": [],
   "source": [
    "user_profile_df = pd.read_csv('restaurant_data/userprofile.csv')\n",
    "places_df = pd.read_csv('restaurant_data/geoplaces2.csv', encoding='latin-1')"
   ]
  },
  {
   "cell_type": "code",
   "execution_count": 204,
   "id": "565b1db3-3955-4278-82ef-a5bdf34d0cf4",
   "metadata": {},
   "outputs": [],
   "source": [
    "# Словарь бюджета пользователя\n",
    "user_budget_df = user_profile_df[['userID', 'budget']].drop_duplicates(subset=['userID'])\n",
    "user_budget_dict = user_budget_df.set_index('userID')['budget'].to_dict()\n",
    "\n",
    "# Словарь ценовой категории места\n",
    "place_price_df = places_df[['placeID', 'price']].drop_duplicates(subset=['placeID'])\n",
    "place_price_dict = place_price_df.set_index('placeID')['price'].to_dict()"
   ]
  },
  {
   "cell_type": "code",
   "execution_count": 272,
   "id": "0d0f6836-cbc9-4f9d-9d7c-674b10cf67b5",
   "metadata": {},
   "outputs": [],
   "source": [
    "CONTEXT_WEIGHT_BUDGET = 0.8"
   ]
  },
  {
   "cell_type": "code",
   "execution_count": 274,
   "id": "0e0494c4-561e-478f-a602-7d74b5bd44d3",
   "metadata": {},
   "outputs": [],
   "source": [
    "def predict_svd_c_budget(user_id, place_id):\n",
    "    \"\"\"\n",
    "    Прогноз SVD с Контекстным Смещением (Budget Match)\n",
    "    \"\"\"\n",
    "    \n",
    "    # 1. Базовое предсказание SVD\n",
    "    predicted_rating = predict_svd_base(user_id, place_id) \n",
    "    \n",
    "    if np.isnan(predicted_rating):\n",
    "        return np.nan\n",
    "\n",
    "    # 2. Определение контекстного смещения (Budget Match Feature)\n",
    "    user_budget = user_budget_dict.get(user_id)\n",
    "    place_price = place_price_dict.get(place_id)\n",
    "    \n",
    "    context_bias = 0.0\n",
    "    \n",
    "    # ВАЖНОЕ ПРАВИЛО: Добавляем положительное смещение только при точном совпадении\n",
    "    if user_budget is not None and place_price is not None:\n",
    "        if user_budget == place_price:\n",
    "            context_bias = CONTEXT_WEIGHT_BUDGET\n",
    "        # Можно добавить штраф за сильное несовпадение (например, user='low', place='high'),\n",
    "        # но для начала оставим только поощрение за совпадение.\n",
    "        elif (user_budget == 'low' and place_price == 'high') or \\\n",
    "             (user_budget == 'high' and place_price == 'low'):\n",
    "            context_bias = -0.5\n",
    "        \n",
    "    # 3. ФИНАЛЬНЫЙ ПРОГНОЗ: SVD + Контекст\n",
    "    final_prediction = predicted_rating + context_bias\n",
    "    \n",
    "    return final_prediction"
   ]
  },
  {
   "cell_type": "code",
   "execution_count": 276,
   "id": "a712fc09-a83e-4caf-b2c0-63d0f7537268",
   "metadata": {},
   "outputs": [
    {
     "name": "stdout",
     "output_type": "stream",
     "text": [
      "MAP@50 для SVD с Контекстным Моделированием (Бюджет, Bias=0.8): 0.0304\n"
     ]
    }
   ],
   "source": [
    "all_ap_scores_svd_c_budget = []\n",
    "\n",
    "for user_id, ratings_dict in test_user_ratings.items():\n",
    "    \n",
    "    user_predictions_svd_c_budget = {}\n",
    "    rated_places_train = set(train_data[train_data['userID'] == user_id]['placeID'])\n",
    "    \n",
    "    for place_id in all_places:\n",
    "        if place_id not in rated_places_train:\n",
    "            \n",
    "            predicted_rating = predict_svd_c_budget(user_id, place_id) # SVD-c для бюджета!\n",
    "            \n",
    "            if not np.isnan(predicted_rating):\n",
    "                user_predictions_svd_c_budget[place_id] = predicted_rating\n",
    "\n",
    "    # Ранжирование и Расчет AP\n",
    "    recommended_items = sorted(\n",
    "        user_predictions_svd_c_budget, \n",
    "        key=user_predictions_svd_c_budget.get, \n",
    "        reverse=True\n",
    "    )[:K_METRIC]\n",
    "    \n",
    "    relevant_items = [item for item, score in ratings_dict.items() if score >= RELEVANCE_THRESHOLD]\n",
    "    \n",
    "    all_ap_scores_svd_c_budget.append(calculate_average_precision_at_k(recommended_items, relevant_items, K_METRIC))\n",
    "\n",
    "MAP_SVD_C_BUDGET = np.mean(all_ap_scores_svd_c_budget)\n",
    "print(f\"MAP@50 для SVD с Контекстным Моделированием (Бюджет, Bias={CONTEXT_WEIGHT_BUDGET}): {MAP_SVD_C_BUDGET:.4f}\")"
   ]
  },
  {
   "cell_type": "markdown",
   "id": "d912f5c7-4aa6-495b-8b0a-3cb3fba6af87",
   "metadata": {},
   "source": [
    "С разным исходным баесом все равно метрика хуже, чем в базовом алгоритме...\n",
    "\n",
    "видимо, контекстное моделирование для этой задачи не очень применимо("
   ]
  },
  {
   "cell_type": "markdown",
   "id": "2332c278-a7d6-447f-9834-7fb4c707e3ec",
   "metadata": {},
   "source": [
    "# 5. Сравнительный анализ и выводы"
   ]
  },
  {
   "cell_type": "code",
   "execution_count": 286,
   "id": "053d6bc5-a578-4431-924b-7978fc7f0958",
   "metadata": {},
   "outputs": [
    {
     "name": "stdout",
     "output_type": "stream",
     "text": [
      "MAP@50 для Базовой SVD (Контроль): 0.0323\n",
      "MAP@50 для SVD с постфильтрацией (радиус 2.0 км): 0.1243\n",
      "MAP@50 для SVD с Контекстным Моделированием (Тип кухни, Bias=5): 0.0213\n",
      "MAP@50 для SVD с Контекстным Моделированием (Бюджет, Bias=0.8): 0.0304\n"
     ]
    }
   ],
   "source": [
    "print(f'MAP@50 для Базовой SVD (Контроль): {MAP_BASE_SVD:.4f}')\n",
    "print(f'MAP@50 для SVD с постфильтрацией (радиус {MAX_DISTANCE_KM} км): {MAP_POST_FILTER:.4f}')\n",
    "print(f\"MAP@50 для SVD с Контекстным Моделированием (Тип кухни, Bias={CONTEXT_WEIGHT_CUISINE}): {MAP_SVD_C:.4f}\")\n",
    "print(f\"MAP@50 для SVD с Контекстным Моделированием (Бюджет, Bias={CONTEXT_WEIGHT_BUDGET}): {MAP_SVD_C_BUDGET:.4f}\")"
   ]
  },
  {
   "cell_type": "markdown",
   "id": "5bc66514-c126-4b83-9661-4c90110488f1",
   "metadata": {},
   "source": [
    "На базовом алгоритме метрика была весьма небольшой.\n",
    "\n",
    "Первый подход - **постфильтирация** - увеличил MAP@50 почти в 4 раза. Это означает, что местоположение является очень важным контекстным признаком для решении задачи прогноза рейтинга ресторанов, выставленных пользователями.   \n",
    "\n",
    "Для контекстного моделирования для разнообразия были взяты другие контекстные признаки: вид кухни и бюджет пользователя. К сожалению, оба контекста потерпели крах... в случае с кухнями результаты оказались даже хуже базового алгоритма, что говорит о \"бесполезном\" контексте, по крайней мере именно в этом методе."
   ]
  },
  {
   "cell_type": "code",
   "execution_count": null,
   "id": "18055f14-0405-4d6b-a1dd-2339e6e8af27",
   "metadata": {},
   "outputs": [],
   "source": []
  }
 ],
 "metadata": {
  "kernelspec": {
   "display_name": "Python [conda env:base] *",
   "language": "python",
   "name": "conda-base-py"
  },
  "language_info": {
   "codemirror_mode": {
    "name": "ipython",
    "version": 3
   },
   "file_extension": ".py",
   "mimetype": "text/x-python",
   "name": "python",
   "nbconvert_exporter": "python",
   "pygments_lexer": "ipython3",
   "version": "3.12.7"
  }
 },
 "nbformat": 4,
 "nbformat_minor": 5
}
